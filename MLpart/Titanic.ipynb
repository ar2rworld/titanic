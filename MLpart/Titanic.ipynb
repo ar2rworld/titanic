{
  "nbformat": 4,
  "nbformat_minor": 0,
  "metadata": {
    "colab": {
      "name": "Titanic.ipynb",
      "provenance": [],
      "collapsed_sections": []
    },
    "kernelspec": {
      "name": "python3",
      "display_name": "Python 3"
    }
  },
  "cells": [
    {
      "cell_type": "code",
      "metadata": {
        "id": "fy-UeQHh6vV2"
      },
      "source": [
        "import pandas as pd\n",
        "import numpy as np\n",
        "import re\n",
        "import tensorflow as tf"
      ],
      "execution_count": null,
      "outputs": []
    },
    {
      "cell_type": "code",
      "metadata": {
        "colab": {
          "base_uri": "https://localhost:8080/"
        },
        "id": "hPdp0N9bAlDM",
        "outputId": "188e08da-7fac-43ca-8044-8ce71916c99f"
      },
      "source": [
        "!wget http://ec2-3-141-45-250.us-east-2.compute.amazonaws.com/titanic.zip"
      ],
      "execution_count": null,
      "outputs": [
        {
          "output_type": "stream",
          "text": [
            "--2021-06-07 20:39:11--  http://ec2-3-141-45-250.us-east-2.compute.amazonaws.com/titanic.zip\n",
            "Resolving ec2-3-141-45-250.us-east-2.compute.amazonaws.com (ec2-3-141-45-250.us-east-2.compute.amazonaws.com)... 3.141.45.250\n",
            "Connecting to ec2-3-141-45-250.us-east-2.compute.amazonaws.com (ec2-3-141-45-250.us-east-2.compute.amazonaws.com)|3.141.45.250|:80... connected.\n",
            "HTTP request sent, awaiting response... 200 OK\n",
            "Length: 34877 (34K) [application/zip]\n",
            "Saving to: ‘titanic.zip’\n",
            "\n",
            "titanic.zip         100%[===================>]  34.06K   169KB/s    in 0.2s    \n",
            "\n",
            "2021-06-07 20:39:12 (169 KB/s) - ‘titanic.zip’ saved [34877/34877]\n",
            "\n"
          ],
          "name": "stdout"
        }
      ]
    },
    {
      "cell_type": "code",
      "metadata": {
        "colab": {
          "base_uri": "https://localhost:8080/"
        },
        "id": "Z0kV_GDdAnjd",
        "outputId": "1f66bb99-83c6-4430-aeeb-5f191d034e67"
      },
      "source": [
        "!unzip titanic.zip; ls"
      ],
      "execution_count": null,
      "outputs": [
        {
          "output_type": "stream",
          "text": [
            "Archive:  titanic.zip\n",
            "  inflating: gender_submission.csv   \n",
            "  inflating: test.csv                \n",
            "  inflating: train.csv               \n",
            "gender_submission.csv  sample_data  test.csv  titanic.zip  train.csv\n"
          ],
          "name": "stdout"
        }
      ]
    },
    {
      "cell_type": "code",
      "metadata": {
        "id": "Be0LRsII7-1O"
      },
      "source": [
        "gender_sub = pd.read_csv(\"gender_submission.csv\")\n",
        "test = pd.read_csv(\"test.csv\")\n",
        "train = pd.read_csv(\"train.csv\")"
      ],
      "execution_count": null,
      "outputs": []
    },
    {
      "cell_type": "code",
      "metadata": {
        "id": "vdUJel8B8Khs",
        "colab": {
          "base_uri": "https://localhost:8080/"
        },
        "outputId": "80706446-6913-4bc7-d36f-3494e9a8366a"
      },
      "source": [
        "#test.tail()\n",
        "#train.tail()\n",
        "#gender_sub.tail()\n",
        "#gender_sub.head()\n",
        "print(test.axes)\n",
        "print(train.axes)"
      ],
      "execution_count": null,
      "outputs": [
        {
          "output_type": "stream",
          "text": [
            "[RangeIndex(start=0, stop=418, step=1), Index(['PassengerId', 'Pclass', 'Name', 'Sex', 'Age', 'SibSp', 'Parch',\n",
            "       'Ticket', 'Fare', 'Cabin', 'Embarked'],\n",
            "      dtype='object')]\n",
            "[RangeIndex(start=0, stop=891, step=1), Index(['PassengerId', 'Survived', 'Pclass', 'Name', 'Sex', 'Age', 'SibSp',\n",
            "       'Parch', 'Ticket', 'Fare', 'Cabin', 'Embarked'],\n",
            "      dtype='object')]\n"
          ],
          "name": "stdout"
        }
      ]
    },
    {
      "cell_type": "code",
      "metadata": {
        "colab": {
          "base_uri": "https://localhost:8080/",
          "height": 55
        },
        "id": "GSRGoOffEBtG",
        "outputId": "609f09d1-67fb-4e42-b2d8-5ee138245f52"
      },
      "source": [
        "'''\n",
        "train[\"Age\"]=train[\"Age\"].fillna(value=train[\"Age\"].mean())\n",
        "test[\"Age\"]=test[\"Age\"].fillna(value=test[\"Age\"].mean())\n",
        "test=test.dropna()\n",
        "train=train.dropna()\n",
        "print(len(test), len(train))\n",
        "'''"
      ],
      "execution_count": null,
      "outputs": [
        {
          "output_type": "execute_result",
          "data": {
            "application/vnd.google.colaboratory.intrinsic+json": {
              "type": "string"
            },
            "text/plain": [
              "'\\ntrain[\"Age\"]=train[\"Age\"].fillna(value=train[\"Age\"].mean())\\ntest[\"Age\"]=test[\"Age\"].fillna(value=test[\"Age\"].mean())\\ntest=test.dropna()\\ntrain=train.dropna()\\nprint(len(test), len(train))\\n'"
            ]
          },
          "metadata": {
            "tags": []
          },
          "execution_count": 6
        }
      ]
    },
    {
      "cell_type": "code",
      "metadata": {
        "colab": {
          "base_uri": "https://localhost:8080/"
        },
        "id": "Yx9spNHEXWsl",
        "outputId": "de5e42b8-adc6-41b1-e4e6-f0a510dfae73"
      },
      "source": [
        "def convertCabin(s=\"0\"):\n",
        "  s=re.sub('\\ ', '', s)\n",
        "  s.lower()\n",
        "  n=len(s)\n",
        "  out=0\n",
        "  for i in s:\n",
        "    if i.isdigit() != True:\n",
        "      out+=ord(i) * n * (10**(s.index(i)+1))\n",
        "    else:\n",
        "      out+=(10**(s.index(i)+1)+int(i))\n",
        "  return int(out)\n",
        "convertCabin()"
      ],
      "execution_count": null,
      "outputs": [
        {
          "output_type": "execute_result",
          "data": {
            "text/plain": [
              "10"
            ]
          },
          "metadata": {
            "tags": []
          },
          "execution_count": 7
        }
      ]
    },
    {
      "cell_type": "code",
      "metadata": {
        "id": "o1WUMyDwfKrr"
      },
      "source": [
        "def convertEmbarked(s):\n",
        "  return ord(s)\n",
        "convertSex = lambda x : 1 if x==\"male\" else 0\n",
        "def convertSurvived(x): \n",
        "  return 0.999 if int(x)==1 else 0"
      ],
      "execution_count": null,
      "outputs": []
    },
    {
      "cell_type": "code",
      "metadata": {
        "colab": {
          "base_uri": "https://localhost:8080/"
        },
        "id": "WHr-GFoHzx3y",
        "outputId": "ecb40524-bb9d-4fba-d2df-17fdfdeb64c7"
      },
      "source": [
        "max(train[\"Fare\"])"
      ],
      "execution_count": null,
      "outputs": [
        {
          "output_type": "execute_result",
          "data": {
            "text/plain": [
              "512.3292"
            ]
          },
          "metadata": {
            "tags": []
          },
          "execution_count": 9
        }
      ]
    },
    {
      "cell_type": "code",
      "metadata": {
        "colab": {
          "base_uri": "https://localhost:8080/",
          "height": 206
        },
        "id": "WsiWAqqu3fDK",
        "outputId": "b9a61052-60fc-497d-d086-e5cf55770135"
      },
      "source": [
        "train.tail()"
      ],
      "execution_count": null,
      "outputs": [
        {
          "output_type": "execute_result",
          "data": {
            "text/html": [
              "<div>\n",
              "<style scoped>\n",
              "    .dataframe tbody tr th:only-of-type {\n",
              "        vertical-align: middle;\n",
              "    }\n",
              "\n",
              "    .dataframe tbody tr th {\n",
              "        vertical-align: top;\n",
              "    }\n",
              "\n",
              "    .dataframe thead th {\n",
              "        text-align: right;\n",
              "    }\n",
              "</style>\n",
              "<table border=\"1\" class=\"dataframe\">\n",
              "  <thead>\n",
              "    <tr style=\"text-align: right;\">\n",
              "      <th></th>\n",
              "      <th>PassengerId</th>\n",
              "      <th>Survived</th>\n",
              "      <th>Pclass</th>\n",
              "      <th>Name</th>\n",
              "      <th>Sex</th>\n",
              "      <th>Age</th>\n",
              "      <th>SibSp</th>\n",
              "      <th>Parch</th>\n",
              "      <th>Ticket</th>\n",
              "      <th>Fare</th>\n",
              "      <th>Cabin</th>\n",
              "      <th>Embarked</th>\n",
              "    </tr>\n",
              "  </thead>\n",
              "  <tbody>\n",
              "    <tr>\n",
              "      <th>886</th>\n",
              "      <td>887</td>\n",
              "      <td>0</td>\n",
              "      <td>2</td>\n",
              "      <td>Montvila, Rev. Juozas</td>\n",
              "      <td>male</td>\n",
              "      <td>27.0</td>\n",
              "      <td>0</td>\n",
              "      <td>0</td>\n",
              "      <td>211536</td>\n",
              "      <td>13.00</td>\n",
              "      <td>NaN</td>\n",
              "      <td>S</td>\n",
              "    </tr>\n",
              "    <tr>\n",
              "      <th>887</th>\n",
              "      <td>888</td>\n",
              "      <td>1</td>\n",
              "      <td>1</td>\n",
              "      <td>Graham, Miss. Margaret Edith</td>\n",
              "      <td>female</td>\n",
              "      <td>19.0</td>\n",
              "      <td>0</td>\n",
              "      <td>0</td>\n",
              "      <td>112053</td>\n",
              "      <td>30.00</td>\n",
              "      <td>B42</td>\n",
              "      <td>S</td>\n",
              "    </tr>\n",
              "    <tr>\n",
              "      <th>888</th>\n",
              "      <td>889</td>\n",
              "      <td>0</td>\n",
              "      <td>3</td>\n",
              "      <td>Johnston, Miss. Catherine Helen \"Carrie\"</td>\n",
              "      <td>female</td>\n",
              "      <td>NaN</td>\n",
              "      <td>1</td>\n",
              "      <td>2</td>\n",
              "      <td>W./C. 6607</td>\n",
              "      <td>23.45</td>\n",
              "      <td>NaN</td>\n",
              "      <td>S</td>\n",
              "    </tr>\n",
              "    <tr>\n",
              "      <th>889</th>\n",
              "      <td>890</td>\n",
              "      <td>1</td>\n",
              "      <td>1</td>\n",
              "      <td>Behr, Mr. Karl Howell</td>\n",
              "      <td>male</td>\n",
              "      <td>26.0</td>\n",
              "      <td>0</td>\n",
              "      <td>0</td>\n",
              "      <td>111369</td>\n",
              "      <td>30.00</td>\n",
              "      <td>C148</td>\n",
              "      <td>C</td>\n",
              "    </tr>\n",
              "    <tr>\n",
              "      <th>890</th>\n",
              "      <td>891</td>\n",
              "      <td>0</td>\n",
              "      <td>3</td>\n",
              "      <td>Dooley, Mr. Patrick</td>\n",
              "      <td>male</td>\n",
              "      <td>32.0</td>\n",
              "      <td>0</td>\n",
              "      <td>0</td>\n",
              "      <td>370376</td>\n",
              "      <td>7.75</td>\n",
              "      <td>NaN</td>\n",
              "      <td>Q</td>\n",
              "    </tr>\n",
              "  </tbody>\n",
              "</table>\n",
              "</div>"
            ],
            "text/plain": [
              "     PassengerId  Survived  Pclass  ...   Fare Cabin  Embarked\n",
              "886          887         0       2  ...  13.00   NaN         S\n",
              "887          888         1       1  ...  30.00   B42         S\n",
              "888          889         0       3  ...  23.45   NaN         S\n",
              "889          890         1       1  ...  30.00  C148         C\n",
              "890          891         0       3  ...   7.75   NaN         Q\n",
              "\n",
              "[5 rows x 12 columns]"
            ]
          },
          "metadata": {
            "tags": []
          },
          "execution_count": 10
        }
      ]
    },
    {
      "cell_type": "code",
      "metadata": {
        "colab": {
          "base_uri": "https://localhost:8080/"
        },
        "id": "xRogzyu3OLVD",
        "outputId": "c0c48f80-5bb2-480b-d8e9-b05d5b9870b4"
      },
      "source": [
        "pd.unique(test[\"Embarked\"])"
      ],
      "execution_count": null,
      "outputs": [
        {
          "output_type": "execute_result",
          "data": {
            "text/plain": [
              "array(['Q', 'S', 'C'], dtype=object)"
            ]
          },
          "metadata": {
            "tags": []
          },
          "execution_count": 20
        }
      ]
    },
    {
      "cell_type": "code",
      "metadata": {
        "colab": {
          "base_uri": "https://localhost:8080/"
        },
        "id": "uU0P9cXgSYEM",
        "outputId": "523aaa6a-4166-4d92-ec24-e00d11001fd8"
      },
      "source": [
        "def removeChars(s):\n",
        "    return int(re.sub('[\\ a-zA-Z\\/\\.]', \"\", s))\n",
        "    \n",
        "def process(data, ans):\n",
        "  copy=data.copy()\n",
        "  copy[\"Age\"]=copy[\"Age\"].fillna(value=copy[\"Age\"].mean())\n",
        "  copy=copy.dropna()\n",
        "  print(len(copy))\n",
        "  copy=copy.drop(labels=\"Name\", axis=1)\n",
        "  copy[\"Ticket\"]=copy[\"Ticket\"].apply(removeChars)\n",
        "  copy[\"Embarked\"]=copy[\"Embarked\"].apply(convertEmbarked)\n",
        "  copy[\"Cabin\"]=copy[\"Cabin\"].apply(convertCabin)\n",
        "  copy[\"Sex\"]=copy[\"Sex\"].apply(convertSex)\n",
        "  copy=copy.join(gender_sub.set_index(\"PassengerId\"), on=\"PassengerId\",rsuffix=\"Right\")\n",
        "  #copy[\"Survived\"]=copy[\"Survived\"].apply(convertSurvived)\n",
        "  print(np.max(copy['Embarked']))\n",
        "  copy=copy.drop(labels=\"PassengerId\", axis=1)\n",
        "  if \"SurvivedRight\" in copy.axes[-1]:\n",
        "    copy=copy.drop(labels=\"SurvivedRight\", axis=1)\n",
        "  #print(copy)\n",
        "  copy=np.asarray(copy)\n",
        "  for c in range(copy.shape[1]):\n",
        "    copy[:,c] /= np.max(copy[:, c])+10**-9\n",
        "    #copy[] = copy[c] / max\n",
        "  return copy\n",
        "#np.max(process(train, gender_sub)[\"Ticket\"])\n",
        "#pd.unique(process(train, gender_sub)[\"Cabin\"])\n",
        "process(train, gender_sub)[0]"
      ],
      "execution_count": null,
      "outputs": [
        {
          "output_type": "stream",
          "text": [
            "202\n",
            "83\n"
          ],
          "name": "stdout"
        },
        {
          "output_type": "execute_result",
          "data": {
            "text/plain": [
              "array([9.99999999e-01, 3.33333333e-01, 0.00000000e+00, 4.75000000e-01,\n",
              "       3.33333333e-01, 0.00000000e+00, 4.48844161e-02, 1.39135735e-01,\n",
              "       2.40040043e-06, 8.07228916e-01])"
            ]
          },
          "metadata": {
            "tags": []
          },
          "execution_count": 37
        }
      ]
    },
    {
      "cell_type": "code",
      "metadata": {
        "colab": {
          "base_uri": "https://localhost:8080/"
        },
        "id": "Bsy5C-7ahlEW",
        "outputId": "3ad28775-5700-45a3-830b-e931885b9c0b"
      },
      "source": [
        "train_data = process(train, gender_sub)\n",
        "test_data = process(test, gender_sub)\n",
        "print(train_data.shape)\n",
        "print(test_data.shape)"
      ],
      "execution_count": null,
      "outputs": [
        {
          "output_type": "stream",
          "text": [
            "202\n",
            "91\n",
            "(202, 10)\n",
            "(91, 10)\n"
          ],
          "name": "stdout"
        }
      ]
    },
    {
      "cell_type": "code",
      "metadata": {
        "colab": {
          "base_uri": "https://localhost:8080/"
        },
        "id": "-fGCWGEd_DvN",
        "outputId": "06ccae12-a7d5-47c7-9af3-fe5d696204f9"
      },
      "source": [
        "train_data[0]"
      ],
      "execution_count": null,
      "outputs": [
        {
          "output_type": "execute_result",
          "data": {
            "text/plain": [
              "array([9.99999999e-01, 3.33333333e-01, 0.00000000e+00, 4.75000000e-01,\n",
              "       3.33333333e-01, 0.00000000e+00, 4.48844161e-02, 1.39135735e-01,\n",
              "       2.40040043e-06, 8.07228916e-01])"
            ]
          },
          "metadata": {
            "tags": []
          },
          "execution_count": 70
        }
      ]
    },
    {
      "cell_type": "code",
      "metadata": {
        "colab": {
          "base_uri": "https://localhost:8080/"
        },
        "id": "4ZQhEfSDG0Ih",
        "outputId": "7f880b92-f149-4d36-be0c-bde72020d23d"
      },
      "source": [
        "test_data[0]"
      ],
      "execution_count": null,
      "outputs": [
        {
          "output_type": "execute_result",
          "data": {
            "text/plain": [
              "array([3.33333333e-01, 0.00000000e+00, 3.02631579e-01, 3.33333333e-01,\n",
              "       0.00000000e+00, 6.09786224e-02, 1.60573904e-01, 2.37426735e-06,\n",
              "       1.00000000e+00])"
            ]
          },
          "metadata": {
            "tags": []
          },
          "execution_count": 69
        }
      ]
    },
    {
      "cell_type": "code",
      "metadata": {
        "id": "476o8AoehsUU"
      },
      "source": [
        "model = tf.keras.Sequential([\n",
        "    tf.keras.layers.Dense(9),\n",
        "    tf.keras.layers.Dense(128, activation='relu'),\n",
        "    tf.keras.layers.Dense(64),\n",
        "    tf.keras.layers.Dense(128, activation='relu'),\n",
        "    tf.keras.layers.Dense(2)\n",
        "])\n",
        "model.compile(optimizer='adam',\n",
        "              loss=tf.keras.losses.SparseCategoricalCrossentropy(from_logits=True),\n",
        "              metrics=['accuracy'])"
      ],
      "execution_count": null,
      "outputs": []
    },
    {
      "cell_type": "code",
      "metadata": {
        "colab": {
          "base_uri": "https://localhost:8080/"
        },
        "id": "sqAM4UX__mWe",
        "outputId": "ce7bcd9c-b03b-48f2-a5fa-c314e2533b4f"
      },
      "source": [
        "model.fit(train_data[:,1:], train_data[:,0], epochs=10)"
      ],
      "execution_count": null,
      "outputs": [
        {
          "output_type": "stream",
          "text": [
            "Epoch 1/10\n",
            "7/7 [==============================] - 0s 4ms/step - loss: 0.6716 - accuracy: 0.6139\n",
            "Epoch 2/10\n",
            "7/7 [==============================] - 0s 4ms/step - loss: 0.6042 - accuracy: 0.6634\n",
            "Epoch 3/10\n",
            "7/7 [==============================] - 0s 4ms/step - loss: 0.5487 - accuracy: 0.6782\n",
            "Epoch 4/10\n",
            "7/7 [==============================] - 0s 6ms/step - loss: 0.5025 - accuracy: 0.7475\n",
            "Epoch 5/10\n",
            "7/7 [==============================] - 0s 5ms/step - loss: 0.4796 - accuracy: 0.7376\n",
            "Epoch 6/10\n",
            "7/7 [==============================] - 0s 3ms/step - loss: 0.4750 - accuracy: 0.7475\n",
            "Epoch 7/10\n",
            "7/7 [==============================] - 0s 3ms/step - loss: 0.4720 - accuracy: 0.7426\n",
            "Epoch 8/10\n",
            "7/7 [==============================] - 0s 3ms/step - loss: 0.4634 - accuracy: 0.7426\n",
            "Epoch 9/10\n",
            "7/7 [==============================] - 0s 3ms/step - loss: 0.4610 - accuracy: 0.7376\n",
            "Epoch 10/10\n",
            "7/7 [==============================] - 0s 4ms/step - loss: 0.4644 - accuracy: 0.7376\n"
          ],
          "name": "stdout"
        },
        {
          "output_type": "execute_result",
          "data": {
            "text/plain": [
              "<tensorflow.python.keras.callbacks.History at 0x7f3b70a67890>"
            ]
          },
          "metadata": {
            "tags": []
          },
          "execution_count": 161
        }
      ]
    },
    {
      "cell_type": "code",
      "metadata": {
        "colab": {
          "base_uri": "https://localhost:8080/"
        },
        "id": "uX76OpdJROoj",
        "outputId": "d78622d6-9a5f-494b-a1ef-6a23d2b00f2d"
      },
      "source": [
        "print(train_data.shape)\n",
        "print(test_data.shape)"
      ],
      "execution_count": null,
      "outputs": [
        {
          "output_type": "stream",
          "text": [
            "(202, 10)\n",
            "(91, 10)\n"
          ],
          "name": "stdout"
        }
      ]
    },
    {
      "cell_type": "code",
      "metadata": {
        "colab": {
          "base_uri": "https://localhost:8080/"
        },
        "id": "ZqlMIpLrQwJE",
        "outputId": "ad005422-a8b5-487a-b127-2fb96831ea0d"
      },
      "source": [
        "test_loss, test_acc = model.evaluate(test_data[:,:-1], test_data[:,-1], verbose=2)\n",
        "\n",
        "print('\\nTest accuracy:', test_acc)"
      ],
      "execution_count": null,
      "outputs": [
        {
          "output_type": "stream",
          "text": [
            "3/3 - 0s - loss: 0.2802 - accuracy: 1.0000\n",
            "\n",
            "Test accuracy: 1.0\n"
          ],
          "name": "stdout"
        }
      ]
    },
    {
      "cell_type": "code",
      "metadata": {
        "colab": {
          "base_uri": "https://localhost:8080/"
        },
        "id": "lKrhlw8yqCoR",
        "outputId": "615c11ca-0945-4290-90cf-ec731b6794bc"
      },
      "source": [
        "for i in range(10, 20):\n",
        "  print(model.predict(test_data[i,:-1].reshape(-1, 9)))\n",
        "  print(test_data[i,-1:])"
      ],
      "execution_count": null,
      "outputs": [
        {
          "output_type": "stream",
          "text": [
            "[[ 0.14991227 -0.03200021]]\n",
            "[0.]\n",
            "[[-1.3639569  0.9386918]]\n",
            "[1.]\n",
            "[[ 0.5561538  -0.50033444]]\n",
            "[0.]\n",
            "[[-1.0537497  0.6678504]]\n",
            "[1.]\n",
            "[[ 0.6828544  -0.34082705]]\n",
            "[0.]\n",
            "[[ 0.36222032 -0.1864124 ]]\n",
            "[0.]\n",
            "[[-0.57070357  0.4698849 ]]\n",
            "[1.]\n",
            "[[ 0.37290177 -0.19900821]]\n",
            "[0.]\n",
            "[[-0.767002   0.4600895]]\n",
            "[1.]\n",
            "[[ 0.58067876 -0.3473177 ]]\n",
            "[0.]\n"
          ],
          "name": "stdout"
        }
      ]
    },
    {
      "cell_type": "code",
      "metadata": {
        "colab": {
          "base_uri": "https://localhost:8080/"
        },
        "id": "Kd3zYrsyu7-J",
        "outputId": "1834fe6d-fe8f-4f47-833a-e5dc1cb501fd"
      },
      "source": [
        "test_data[-1,-1:]\n",
        "model.predict(test_data[i,:-1].reshape(-1, 9))[0, 1]"
      ],
      "execution_count": null,
      "outputs": [
        {
          "output_type": "execute_result",
          "data": {
            "text/plain": [
              "-0.3473177"
            ]
          },
          "metadata": {
            "tags": []
          },
          "execution_count": 243
        }
      ]
    },
    {
      "cell_type": "code",
      "metadata": {
        "colab": {
          "base_uri": "https://localhost:8080/"
        },
        "id": "7XJNXRGXXXqJ",
        "outputId": "e76ba091-ab55-4734-89f9-c4d7ef894100"
      },
      "source": [
        "model.save(\"./MyDrive/ColabN*/kaggle/model\")"
      ],
      "execution_count": null,
      "outputs": [
        {
          "output_type": "stream",
          "text": [
            "INFO:tensorflow:Assets written to: ./MyDrive/ColabN*/kaggle/model/assets\n"
          ],
          "name": "stdout"
        }
      ]
    },
    {
      "cell_type": "code",
      "metadata": {
        "colab": {
          "base_uri": "https://localhost:8080/"
        },
        "id": "tE4UBYKjXgaz",
        "outputId": "f83d405f-fb5c-4980-80c8-e658856e4806"
      },
      "source": [
        "!ls MyDrive/ColabN*/kaggle"
      ],
      "execution_count": null,
      "outputs": [
        {
          "output_type": "stream",
          "text": [
            "Titanic.ipynb\n"
          ],
          "name": "stdout"
        }
      ]
    },
    {
      "cell_type": "code",
      "metadata": {
        "colab": {
          "base_uri": "https://localhost:8080/"
        },
        "id": "s2yJ-lA0Yj7h",
        "outputId": "bdc2d6ef-60e4-4cf8-df92-5d5e43c97e3f"
      },
      "source": [
        "from google.colab import drive\n",
        "drive.mount('/gdrive')\n",
        "%cd /gdrive\n",
        "drive.flush_and_unmount()"
      ],
      "execution_count": null,
      "outputs": [
        {
          "output_type": "stream",
          "text": [
            "Drive already mounted at /gdrive; to attempt to forcibly remount, call drive.mount(\"/gdrive\", force_remount=True).\n",
            "/gdrive\n"
          ],
          "name": "stdout"
        }
      ]
    },
    {
      "cell_type": "code",
      "metadata": {
        "colab": {
          "base_uri": "https://localhost:8080/"
        },
        "id": "sF_sRJQSe9z6",
        "outputId": "bea3cd7d-efaf-4827-ffb5-6014274adea3"
      },
      "source": [
        "!pip install django"
      ],
      "execution_count": null,
      "outputs": [
        {
          "output_type": "stream",
          "text": [
            "Collecting django\n",
            "\u001b[?25l  Downloading https://files.pythonhosted.org/packages/70/22/ed1943c0ef2be99ade872f49a20aa4cfc70eb4ffc866fc61b128211f3e5d/Django-3.2.4-py3-none-any.whl (7.9MB)\n",
            "\u001b[K     |████████████████████████████████| 7.9MB 2.9MB/s \n",
            "\u001b[?25hCollecting asgiref<4,>=3.3.2\n",
            "  Downloading https://files.pythonhosted.org/packages/17/8b/05e225d11154b8f5358e6a6d277679c9741ec0339d1e451c9cef687a9170/asgiref-3.3.4-py3-none-any.whl\n",
            "Requirement already satisfied: pytz in /usr/local/lib/python3.7/dist-packages (from django) (2018.9)\n",
            "Requirement already satisfied: sqlparse>=0.2.2 in /usr/local/lib/python3.7/dist-packages (from django) (0.4.1)\n",
            "Requirement already satisfied: typing-extensions; python_version < \"3.8\" in /usr/local/lib/python3.7/dist-packages (from asgiref<4,>=3.3.2->django) (3.7.4.3)\n",
            "Installing collected packages: asgiref, django\n",
            "Successfully installed asgiref-3.3.4 django-3.2.4\n"
          ],
          "name": "stdout"
        }
      ]
    },
    {
      "cell_type": "code",
      "metadata": {
        "colab": {
          "base_uri": "https://localhost:8080/"
        },
        "id": "8xX9uGK7fEGr",
        "outputId": "6e4fedf1-13b0-494c-8491-8c996a67513e"
      },
      "source": [
        "!ls /datalab/\n",
        "#!django-admin startproject mysite"
      ],
      "execution_count": null,
      "outputs": [
        {
          "output_type": "stream",
          "text": [
            "shell-init: error retrieving current directory: getcwd: cannot access parent directories: Transport endpoint is not connected\n",
            "run.sh\tweb\n"
          ],
          "name": "stdout"
        }
      ]
    },
    {
      "cell_type": "code",
      "metadata": {
        "colab": {
          "base_uri": "https://localhost:8080/",
          "height": 913
        },
        "id": "Ie7GQJVviqsy",
        "outputId": "84f34dc2-3769-43b5-80ea-fd9870482676"
      },
      "source": [
        "tf.keras.models.load_model(\"ec2-3-141-45-250.us-east-2.compute.amazonaws.com/model-20210607t073640z-001.zip\")"
      ],
      "execution_count": null,
      "outputs": [
        {
          "output_type": "stream",
          "text": [
            "ERROR:root:Internal Python error in the inspect module.\n",
            "Below is the traceback from this internal error.\n",
            "\n"
          ],
          "name": "stderr"
        },
        {
          "output_type": "stream",
          "text": [
            "Traceback (most recent call last):\n",
            "  File \"/usr/local/lib/python3.7/dist-packages/IPython/core/interactiveshell.py\", line 2882, in run_code\n",
            "    exec(code_obj, self.user_global_ns, self.user_ns)\n",
            "  File \"<ipython-input-214-dd45e4d90ca4>\", line 1, in <module>\n",
            "    tf.keras.models.load_model(\"ec2-3-141-45-250.us-east-2.compute.amazonaws.com/model-20210607t073640z-001.zip\")\n",
            "  File \"/usr/local/lib/python3.7/dist-packages/tensorflow/python/keras/saving/save.py\", line 200, in load_model\n",
            "    (isinstance(filepath, h5py.File) or h5py.is_hdf5(filepath))):\n",
            "  File \"/usr/local/lib/python3.7/dist-packages/h5py/_hl/base.py\", line 34, in is_hdf5\n",
            "    fname = os.path.abspath(fspath(fname))\n",
            "  File \"/usr/lib/python3.7/posixpath.py\", line 383, in abspath\n",
            "    cwd = os.getcwd()\n",
            "OSError: [Errno 107] Transport endpoint is not connected\n",
            "\n",
            "During handling of the above exception, another exception occurred:\n",
            "\n",
            "Traceback (most recent call last):\n",
            "  File \"/usr/local/lib/python3.7/dist-packages/IPython/core/interactiveshell.py\", line 1823, in showtraceback\n",
            "    stb = value._render_traceback_()\n",
            "AttributeError: 'OSError' object has no attribute '_render_traceback_'\n",
            "\n",
            "During handling of the above exception, another exception occurred:\n",
            "\n",
            "Traceback (most recent call last):\n",
            "  File \"/usr/local/lib/python3.7/dist-packages/IPython/core/ultratb.py\", line 1132, in get_records\n",
            "    return _fixed_getinnerframes(etb, number_of_lines_of_context, tb_offset)\n",
            "  File \"/usr/local/lib/python3.7/dist-packages/IPython/core/ultratb.py\", line 313, in wrapped\n",
            "    return f(*args, **kwargs)\n",
            "  File \"/usr/local/lib/python3.7/dist-packages/IPython/core/ultratb.py\", line 358, in _fixed_getinnerframes\n",
            "    records = fix_frame_records_filenames(inspect.getinnerframes(etb, context))\n",
            "  File \"/usr/lib/python3.7/inspect.py\", line 1502, in getinnerframes\n",
            "    frameinfo = (tb.tb_frame,) + getframeinfo(tb, context)\n",
            "  File \"/usr/lib/python3.7/inspect.py\", line 1460, in getframeinfo\n",
            "    filename = getsourcefile(frame) or getfile(frame)\n",
            "  File \"/usr/lib/python3.7/inspect.py\", line 696, in getsourcefile\n",
            "    if getattr(getmodule(object, filename), '__loader__', None) is not None:\n",
            "  File \"/usr/lib/python3.7/inspect.py\", line 725, in getmodule\n",
            "    file = getabsfile(object, _filename)\n",
            "  File \"/usr/lib/python3.7/inspect.py\", line 709, in getabsfile\n",
            "    return os.path.normcase(os.path.abspath(_filename))\n",
            "  File \"/usr/lib/python3.7/posixpath.py\", line 383, in abspath\n",
            "    cwd = os.getcwd()\n",
            "OSError: [Errno 107] Transport endpoint is not connected\n"
          ],
          "name": "stdout"
        },
        {
          "output_type": "error",
          "ename": "OSError",
          "evalue": "ignored",
          "traceback": [
            "\u001b[0;31m---------------------------------------------------------------------------\u001b[0m"
          ]
        }
      ]
    }
  ]
}